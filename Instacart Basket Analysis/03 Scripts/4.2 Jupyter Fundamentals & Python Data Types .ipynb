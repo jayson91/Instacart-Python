{
 "cells": [
  {
   "cell_type": "markdown",
   "id": "ec093eb7",
   "metadata": {},
   "source": [
    "# Importing Libraries"
   ]
  },
  {
   "cell_type": "code",
   "execution_count": 3,
   "id": "cf3ea973",
   "metadata": {},
   "outputs": [],
   "source": [
    "#Import libraries\n",
    "import pandas as pd\n",
    "import numpy as np\n",
    "import os"
   ]
  },
  {
   "cell_type": "markdown",
   "id": "229cfe0d",
   "metadata": {},
   "source": [
    "# Python data types"
   ]
  },
  {
   "cell_type": "code",
   "execution_count": 5,
   "id": "3aaf2deb",
   "metadata": {},
   "outputs": [
    {
     "name": "stdout",
     "output_type": "stream",
     "text": [
      "100\n"
     ]
    }
   ],
   "source": [
    "# Code 3 different ways of reaching a result of 100 by adding or subtracting numeric variables.\n",
    "\n",
    "x=22\n",
    "y=77\n",
    "z=1\n",
    "\n",
    "print(x+y+z)"
   ]
  },
  {
   "cell_type": "code",
   "execution_count": 8,
   "id": "19c6f5f3",
   "metadata": {},
   "outputs": [
    {
     "data": {
      "text/plain": [
       "100"
      ]
     },
     "execution_count": 8,
     "metadata": {},
     "output_type": "execute_result"
    }
   ],
   "source": [
    "y-x+z+44"
   ]
  },
  {
   "cell_type": "code",
   "execution_count": 9,
   "id": "e8887f15",
   "metadata": {},
   "outputs": [
    {
     "data": {
      "text/plain": [
       "100"
      ]
     },
     "execution_count": 9,
     "metadata": {},
     "output_type": "execute_result"
    }
   ],
   "source": [
    "200-100"
   ]
  },
  {
   "cell_type": "code",
   "execution_count": 10,
   "id": "6b9f14f1",
   "metadata": {},
   "outputs": [
    {
     "data": {
      "text/plain": [
       "4.7879924953095685"
      ]
     },
     "execution_count": 10,
     "metadata": {},
     "output_type": "execute_result"
    }
   ],
   "source": [
    "#Code 2 floating-point variables and divide them by each other.\n",
    "\n",
    "x= 25.52\n",
    "y=5.33\n",
    "\n",
    "x/y"
   ]
  },
  {
   "cell_type": "code",
   "execution_count": 12,
   "id": "cc18c500",
   "metadata": {},
   "outputs": [
    {
     "data": {
      "text/plain": [
       "'HelloWorld'"
      ]
     },
     "execution_count": 12,
     "metadata": {},
     "output_type": "execute_result"
    }
   ],
   "source": [
    "a= \"Hello\"\n",
    "b= \"World\"\n",
    "\n",
    "a + b"
   ]
  },
  {
   "cell_type": "code",
   "execution_count": 17,
   "id": "09d28d97",
   "metadata": {},
   "outputs": [
    {
     "data": {
      "text/plain": [
       "'My school starts at 8:00. Do you want to go for a ride? Sure'"
      ]
     },
     "execution_count": 17,
     "metadata": {},
     "output_type": "execute_result"
    }
   ],
   "source": [
    "c= 'My school starts at 8:00.'\n",
    "d= ' Do you want to go for a ride? '\n",
    "e= 'Sure'\n",
    "\n",
    "c+d+e"
   ]
  },
  {
   "cell_type": "code",
   "execution_count": 18,
   "id": "e6d9d87f",
   "metadata": {},
   "outputs": [
    {
     "data": {
      "text/plain": [
       "'readyreadyreadyreadyreadyreadyreadyreadyreadyreadyreadyreadyreadyreadyreadyreadyreadyreadyreadyreadyreadyreadyreadyreadyreadyreadyreadyreadyreadyreadyreadyreadyreadyreadyreadyreadyreadyreadyreadyreadyreadyreadyreadyreadyreadyreadyreadyreadyreadyreadyreadyreadyreadyreadyreadyreadyreadyreadyreadyreadyreadyreadyreadyreadyreadyreadyreadyreadyreadyreadyreadyreadyreadyreadyreadyreadyreadyreadyreadyreadyreadyreadyreadyreadyreadyreadyreadyreadyreadyreadyreadyreadyreadyreadyreadyreadyreadyreadyreadyready'"
      ]
     },
     "execution_count": 18,
     "metadata": {},
     "output_type": "execute_result"
    }
   ],
   "source": [
    "# Bonus Task\n",
    "\n",
    "f= 'ready'\n",
    "f*100"
   ]
  },
  {
   "cell_type": "code",
   "execution_count": null,
   "id": "85ad5d1a",
   "metadata": {},
   "outputs": [],
   "source": []
  }
 ],
 "metadata": {
  "kernelspec": {
   "display_name": "Python 3 (ipykernel)",
   "language": "python",
   "name": "python3"
  },
  "language_info": {
   "codemirror_mode": {
    "name": "ipython",
    "version": 3
   },
   "file_extension": ".py",
   "mimetype": "text/x-python",
   "name": "python",
   "nbconvert_exporter": "python",
   "pygments_lexer": "ipython3",
   "version": "3.11.5"
  }
 },
 "nbformat": 4,
 "nbformat_minor": 5
}
